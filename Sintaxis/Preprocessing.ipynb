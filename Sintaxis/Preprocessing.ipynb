{
 "cells": [
  {
   "cell_type": "code",
   "execution_count": 1,
   "metadata": {},
   "outputs": [],
   "source": [
    "import pandas as pd"
   ]
  },
  {
   "cell_type": "code",
   "execution_count": 2,
   "metadata": {},
   "outputs": [
    {
     "data": {
      "text/html": [
       "<div>\n",
       "<style scoped>\n",
       "    .dataframe tbody tr th:only-of-type {\n",
       "        vertical-align: middle;\n",
       "    }\n",
       "\n",
       "    .dataframe tbody tr th {\n",
       "        vertical-align: top;\n",
       "    }\n",
       "\n",
       "    .dataframe thead th {\n",
       "        text-align: right;\n",
       "    }\n",
       "</style>\n",
       "<table border=\"1\" class=\"dataframe\">\n",
       "  <thead>\n",
       "    <tr style=\"text-align: right;\">\n",
       "      <th></th>\n",
       "      <th>idPaciente</th>\n",
       "      <th>Mes</th>\n",
       "      <th>TAS</th>\n",
       "      <th>Adherencia</th>\n",
       "      <th>Peso</th>\n",
       "      <th>Altura</th>\n",
       "      <th>IMC</th>\n",
       "      <th>DBT</th>\n",
       "      <th>Sexo</th>\n",
       "      <th>Edad</th>\n",
       "      <th>Fuma</th>\n",
       "      <th>ant_HTA</th>\n",
       "      <th>tas_basal</th>\n",
       "      <th>ICC</th>\n",
       "    </tr>\n",
       "  </thead>\n",
       "  <tbody>\n",
       "    <tr>\n",
       "      <th>0</th>\n",
       "      <td>4026</td>\n",
       "      <td>1</td>\n",
       "      <td>119.000000</td>\n",
       "      <td>1</td>\n",
       "      <td>82.0</td>\n",
       "      <td>152.0</td>\n",
       "      <td>35.0</td>\n",
       "      <td>0.0</td>\n",
       "      <td>0</td>\n",
       "      <td>76.0</td>\n",
       "      <td>0.0</td>\n",
       "      <td>1</td>\n",
       "      <td>116</td>\n",
       "      <td>0.852459</td>\n",
       "    </tr>\n",
       "    <tr>\n",
       "      <th>1</th>\n",
       "      <td>4026</td>\n",
       "      <td>2</td>\n",
       "      <td>127.000000</td>\n",
       "      <td>1</td>\n",
       "      <td>82.0</td>\n",
       "      <td>152.0</td>\n",
       "      <td>35.0</td>\n",
       "      <td>0.0</td>\n",
       "      <td>0</td>\n",
       "      <td>76.0</td>\n",
       "      <td>0.0</td>\n",
       "      <td>1</td>\n",
       "      <td>116</td>\n",
       "      <td>0.852459</td>\n",
       "    </tr>\n",
       "    <tr>\n",
       "      <th>2</th>\n",
       "      <td>4026</td>\n",
       "      <td>3</td>\n",
       "      <td>140.000000</td>\n",
       "      <td>1</td>\n",
       "      <td>82.0</td>\n",
       "      <td>152.0</td>\n",
       "      <td>35.0</td>\n",
       "      <td>0.0</td>\n",
       "      <td>0</td>\n",
       "      <td>76.0</td>\n",
       "      <td>0.0</td>\n",
       "      <td>1</td>\n",
       "      <td>116</td>\n",
       "      <td>0.852459</td>\n",
       "    </tr>\n",
       "    <tr>\n",
       "      <th>3</th>\n",
       "      <td>4026</td>\n",
       "      <td>4</td>\n",
       "      <td>146.712710</td>\n",
       "      <td>1</td>\n",
       "      <td>82.0</td>\n",
       "      <td>152.0</td>\n",
       "      <td>35.0</td>\n",
       "      <td>0.0</td>\n",
       "      <td>0</td>\n",
       "      <td>76.0</td>\n",
       "      <td>0.0</td>\n",
       "      <td>1</td>\n",
       "      <td>116</td>\n",
       "      <td>0.852459</td>\n",
       "    </tr>\n",
       "    <tr>\n",
       "      <th>4</th>\n",
       "      <td>4026</td>\n",
       "      <td>5</td>\n",
       "      <td>177.708084</td>\n",
       "      <td>1</td>\n",
       "      <td>82.0</td>\n",
       "      <td>152.0</td>\n",
       "      <td>35.0</td>\n",
       "      <td>0.0</td>\n",
       "      <td>0</td>\n",
       "      <td>76.0</td>\n",
       "      <td>0.0</td>\n",
       "      <td>1</td>\n",
       "      <td>116</td>\n",
       "      <td>0.852459</td>\n",
       "    </tr>\n",
       "  </tbody>\n",
       "</table>\n",
       "</div>"
      ],
      "text/plain": [
       "   idPaciente  Mes         TAS  Adherencia  Peso  Altura   IMC  DBT  Sexo  \\\n",
       "0        4026    1  119.000000           1  82.0   152.0  35.0  0.0     0   \n",
       "1        4026    2  127.000000           1  82.0   152.0  35.0  0.0     0   \n",
       "2        4026    3  140.000000           1  82.0   152.0  35.0  0.0     0   \n",
       "3        4026    4  146.712710           1  82.0   152.0  35.0  0.0     0   \n",
       "4        4026    5  177.708084           1  82.0   152.0  35.0  0.0     0   \n",
       "\n",
       "   Edad  Fuma  ant_HTA  tas_basal       ICC  \n",
       "0  76.0   0.0        1        116  0.852459  \n",
       "1  76.0   0.0        1        116  0.852459  \n",
       "2  76.0   0.0        1        116  0.852459  \n",
       "3  76.0   0.0        1        116  0.852459  \n",
       "4  76.0   0.0        1        116  0.852459  "
      ]
     },
     "execution_count": 2,
     "metadata": {},
     "output_type": "execute_result"
    }
   ],
   "source": [
    "tesis = pd.read_csv(\"../Datos/tesis_final.csv\")\n",
    "tesis.head()"
   ]
  },
  {
   "cell_type": "code",
   "execution_count": 3,
   "metadata": {},
   "outputs": [],
   "source": [
    "tesis = tesis.drop([\"Peso\", \"Altura\", \"IMC\", \"DBT\", \"Fuma\", \"ant_HTA\", \"ICC\"], axis=1)"
   ]
  },
  {
   "cell_type": "code",
   "execution_count": 4,
   "metadata": {},
   "outputs": [],
   "source": [
    "# Crear Adherencia_Acum: variable de indice de performance de adherencia al tratamiento hasta el momento t\n",
    "tesis[\"Adherencia_Acumulada\"] = tesis.groupby(\"idPaciente\")[\"Adherencia\"].expanding().mean().to_list()\n",
    "# Crear covariable Adherencia_Total no dependiente del tiempo con el performance final de cada paciente\n",
    "tesis[\"Adherencia_Total\"] = tesis[\"idPaciente\"].map(tesis.groupby(\"idPaciente\")[\"Adherencia\"].mean().to_dict())\n",
    "\n",
    "tesis[\"Adherencia_Perfecta\"] = (tesis[\"Adherencia_Total\"] == 1).astype(int)"
   ]
  },
  {
   "cell_type": "code",
   "execution_count": 5,
   "metadata": {},
   "outputs": [],
   "source": [
    "# Crear TAS_Media_Acum: variable de TAS media hasta el momento t\n",
    "tesis[\"TAS_Media_Acumulada\"] = tesis.groupby(\"idPaciente\")[\"TAS\"].expanding().mean().to_list()"
   ]
  },
  {
   "cell_type": "code",
   "execution_count": 7,
   "metadata": {},
   "outputs": [],
   "source": [
    "tesis[\"Intercept\"] = 1"
   ]
  },
  {
   "cell_type": "code",
   "execution_count": 8,
   "metadata": {},
   "outputs": [],
   "source": [
    "tesis[\"Adherencia_lag1\"] = tesis.groupby(\"idPaciente\")[\"Adherencia\"].shift(1).fillna(0)\n",
    "\n",
    "tesis[\"TAS_lag1\"] = tesis.groupby(\"idPaciente\")[\"TAS\"].shift(1).fillna(tesis[\"tas_basal\"])\n",
    "\n",
    "tesis[\"Adherencia_Acumulada_lag2\"] = tesis.groupby(\"idPaciente\")[\"Adherencia_Acumulada\"].shift(2).fillna(0)\n",
    "\n",
    "tesis[\"TAS_Media_Acumulada_lag2\"] = tesis.groupby(\"idPaciente\")[\"TAS_Media_Acumulada\"].shift(2).fillna(tesis[\"tas_basal\"])"
   ]
  },
  {
   "cell_type": "code",
   "execution_count": 9,
   "metadata": {},
   "outputs": [],
   "source": [
    "tesis[\"Mes*Adherencia\"] = tesis[\"Mes\"] * tesis[\"Adherencia\"]\n",
    "tesis[\"Mes*Adherencia_Perfecta\"] = tesis[\"Mes\"] * tesis[\"Adherencia_Perfecta\"]\n",
    "tesis[\"Mes*Adherencia_Total\"] = tesis[\"Mes\"] * tesis[\"Adherencia_Total\"]\n",
    "tesis[\"Mes*Adherencia_lag1\"] = tesis[\"Mes\"] * tesis[\"Adherencia_lag1\"]\n",
    "tesis[\"Mes*Adherencia_Acumulada\"] = tesis[\"Mes\"] * tesis[\"Adherencia_Acumulada\"]"
   ]
  },
  {
   "cell_type": "code",
   "execution_count": 10,
   "metadata": {},
   "outputs": [],
   "source": [
    "tesis.to_csv(\"../Datos/tesis_final_preprocesado.csv\", index=False)"
   ]
  }
 ],
 "metadata": {
  "kernelspec": {
   "display_name": "Python 3",
   "language": "python",
   "name": "python3"
  },
  "language_info": {
   "codemirror_mode": {
    "name": "ipython",
    "version": 3
   },
   "file_extension": ".py",
   "mimetype": "text/x-python",
   "name": "python",
   "nbconvert_exporter": "python",
   "pygments_lexer": "ipython3",
   "version": "3.10.11"
  },
  "orig_nbformat": 4
 },
 "nbformat": 4,
 "nbformat_minor": 2
}
