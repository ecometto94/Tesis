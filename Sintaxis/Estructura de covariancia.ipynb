{
 "cells": [
  {
   "cell_type": "code",
   "execution_count": 24,
   "metadata": {},
   "outputs": [],
   "source": [
    "import pandas as pd\n",
    "\n",
    "import rpy2.robjects as ro\n",
    "from rpy2.robjects.packages import importr\n",
    "from rpy2.robjects import pandas2ri\n",
    "\n",
    "nlme = importr('nlme')\n",
    "stats = importr(\"stats\")"
   ]
  },
  {
   "cell_type": "code",
   "execution_count": 25,
   "metadata": {},
   "outputs": [
    {
     "data": {
      "text/html": [
       "<div>\n",
       "<style scoped>\n",
       "    .dataframe tbody tr th:only-of-type {\n",
       "        vertical-align: middle;\n",
       "    }\n",
       "\n",
       "    .dataframe tbody tr th {\n",
       "        vertical-align: top;\n",
       "    }\n",
       "\n",
       "    .dataframe thead th {\n",
       "        text-align: right;\n",
       "    }\n",
       "</style>\n",
       "<table border=\"1\" class=\"dataframe\">\n",
       "  <thead>\n",
       "    <tr style=\"text-align: right;\">\n",
       "      <th></th>\n",
       "      <th>idPaciente</th>\n",
       "      <th>Mes</th>\n",
       "      <th>TAS</th>\n",
       "      <th>Adherencia</th>\n",
       "      <th>Sexo</th>\n",
       "      <th>Edad</th>\n",
       "      <th>tas_basal</th>\n",
       "      <th>Adherencia_Acumulada</th>\n",
       "      <th>Adherencia_Total</th>\n",
       "      <th>Adherencia_Perfecta</th>\n",
       "      <th>...</th>\n",
       "      <th>Intercept</th>\n",
       "      <th>Adherencia_lag1</th>\n",
       "      <th>TAS_lag1</th>\n",
       "      <th>Adherencia_Acumulada_lag2</th>\n",
       "      <th>TAS_Media_Acumulada_lag2</th>\n",
       "      <th>Mes*Adherencia</th>\n",
       "      <th>Mes*Adherencia_Perfecta</th>\n",
       "      <th>Mes*Adherencia_Total</th>\n",
       "      <th>Mes*Adherencia_lag1</th>\n",
       "      <th>Mes*Adherencia_Acumulada</th>\n",
       "    </tr>\n",
       "  </thead>\n",
       "  <tbody>\n",
       "    <tr>\n",
       "      <th>0</th>\n",
       "      <td>4026</td>\n",
       "      <td>1</td>\n",
       "      <td>119.000000</td>\n",
       "      <td>1</td>\n",
       "      <td>0</td>\n",
       "      <td>76.0</td>\n",
       "      <td>116</td>\n",
       "      <td>1.0</td>\n",
       "      <td>1.0</td>\n",
       "      <td>1</td>\n",
       "      <td>...</td>\n",
       "      <td>1</td>\n",
       "      <td>0.0</td>\n",
       "      <td>116.00000</td>\n",
       "      <td>0.0</td>\n",
       "      <td>116.000000</td>\n",
       "      <td>1</td>\n",
       "      <td>1</td>\n",
       "      <td>1.0</td>\n",
       "      <td>0.0</td>\n",
       "      <td>1.0</td>\n",
       "    </tr>\n",
       "    <tr>\n",
       "      <th>1</th>\n",
       "      <td>4026</td>\n",
       "      <td>2</td>\n",
       "      <td>127.000000</td>\n",
       "      <td>1</td>\n",
       "      <td>0</td>\n",
       "      <td>76.0</td>\n",
       "      <td>116</td>\n",
       "      <td>1.0</td>\n",
       "      <td>1.0</td>\n",
       "      <td>1</td>\n",
       "      <td>...</td>\n",
       "      <td>1</td>\n",
       "      <td>1.0</td>\n",
       "      <td>119.00000</td>\n",
       "      <td>0.0</td>\n",
       "      <td>116.000000</td>\n",
       "      <td>2</td>\n",
       "      <td>2</td>\n",
       "      <td>2.0</td>\n",
       "      <td>2.0</td>\n",
       "      <td>2.0</td>\n",
       "    </tr>\n",
       "    <tr>\n",
       "      <th>2</th>\n",
       "      <td>4026</td>\n",
       "      <td>3</td>\n",
       "      <td>140.000000</td>\n",
       "      <td>1</td>\n",
       "      <td>0</td>\n",
       "      <td>76.0</td>\n",
       "      <td>116</td>\n",
       "      <td>1.0</td>\n",
       "      <td>1.0</td>\n",
       "      <td>1</td>\n",
       "      <td>...</td>\n",
       "      <td>1</td>\n",
       "      <td>1.0</td>\n",
       "      <td>127.00000</td>\n",
       "      <td>1.0</td>\n",
       "      <td>119.000000</td>\n",
       "      <td>3</td>\n",
       "      <td>3</td>\n",
       "      <td>3.0</td>\n",
       "      <td>3.0</td>\n",
       "      <td>3.0</td>\n",
       "    </tr>\n",
       "    <tr>\n",
       "      <th>3</th>\n",
       "      <td>4026</td>\n",
       "      <td>4</td>\n",
       "      <td>146.712710</td>\n",
       "      <td>1</td>\n",
       "      <td>0</td>\n",
       "      <td>76.0</td>\n",
       "      <td>116</td>\n",
       "      <td>1.0</td>\n",
       "      <td>1.0</td>\n",
       "      <td>1</td>\n",
       "      <td>...</td>\n",
       "      <td>1</td>\n",
       "      <td>1.0</td>\n",
       "      <td>140.00000</td>\n",
       "      <td>1.0</td>\n",
       "      <td>123.000000</td>\n",
       "      <td>4</td>\n",
       "      <td>4</td>\n",
       "      <td>4.0</td>\n",
       "      <td>4.0</td>\n",
       "      <td>4.0</td>\n",
       "    </tr>\n",
       "    <tr>\n",
       "      <th>4</th>\n",
       "      <td>4026</td>\n",
       "      <td>5</td>\n",
       "      <td>177.708084</td>\n",
       "      <td>1</td>\n",
       "      <td>0</td>\n",
       "      <td>76.0</td>\n",
       "      <td>116</td>\n",
       "      <td>1.0</td>\n",
       "      <td>1.0</td>\n",
       "      <td>1</td>\n",
       "      <td>...</td>\n",
       "      <td>1</td>\n",
       "      <td>1.0</td>\n",
       "      <td>146.71271</td>\n",
       "      <td>1.0</td>\n",
       "      <td>128.666667</td>\n",
       "      <td>5</td>\n",
       "      <td>5</td>\n",
       "      <td>5.0</td>\n",
       "      <td>5.0</td>\n",
       "      <td>5.0</td>\n",
       "    </tr>\n",
       "  </tbody>\n",
       "</table>\n",
       "<p>5 rows × 21 columns</p>\n",
       "</div>"
      ],
      "text/plain": [
       "   idPaciente  Mes         TAS  Adherencia  Sexo  Edad  tas_basal  \\\n",
       "0        4026    1  119.000000           1     0  76.0        116   \n",
       "1        4026    2  127.000000           1     0  76.0        116   \n",
       "2        4026    3  140.000000           1     0  76.0        116   \n",
       "3        4026    4  146.712710           1     0  76.0        116   \n",
       "4        4026    5  177.708084           1     0  76.0        116   \n",
       "\n",
       "   Adherencia_Acumulada  Adherencia_Total  Adherencia_Perfecta  ...  \\\n",
       "0                   1.0               1.0                    1  ...   \n",
       "1                   1.0               1.0                    1  ...   \n",
       "2                   1.0               1.0                    1  ...   \n",
       "3                   1.0               1.0                    1  ...   \n",
       "4                   1.0               1.0                    1  ...   \n",
       "\n",
       "   Intercept  Adherencia_lag1   TAS_lag1  Adherencia_Acumulada_lag2  \\\n",
       "0          1              0.0  116.00000                        0.0   \n",
       "1          1              1.0  119.00000                        0.0   \n",
       "2          1              1.0  127.00000                        1.0   \n",
       "3          1              1.0  140.00000                        1.0   \n",
       "4          1              1.0  146.71271                        1.0   \n",
       "\n",
       "   TAS_Media_Acumulada_lag2  Mes*Adherencia  Mes*Adherencia_Perfecta  \\\n",
       "0                116.000000               1                        1   \n",
       "1                116.000000               2                        2   \n",
       "2                119.000000               3                        3   \n",
       "3                123.000000               4                        4   \n",
       "4                128.666667               5                        5   \n",
       "\n",
       "   Mes*Adherencia_Total  Mes*Adherencia_lag1  Mes*Adherencia_Acumulada  \n",
       "0                   1.0                  0.0                       1.0  \n",
       "1                   2.0                  2.0                       2.0  \n",
       "2                   3.0                  3.0                       3.0  \n",
       "3                   4.0                  4.0                       4.0  \n",
       "4                   5.0                  5.0                       5.0  \n",
       "\n",
       "[5 rows x 21 columns]"
      ]
     },
     "execution_count": 25,
     "metadata": {},
     "output_type": "execute_result"
    }
   ],
   "source": [
    "tesis = pd.read_csv(\"../Datos/tesis_final_preprocesado.csv\")\n",
    "tesis.head()"
   ]
  },
  {
   "cell_type": "code",
   "execution_count": 26,
   "metadata": {},
   "outputs": [],
   "source": [
    "with (ro.default_converter + pandas2ri.converter).context():\n",
    "    rdf = ro.conversion.get_conversion().py2rpy(tesis)"
   ]
  },
  {
   "cell_type": "code",
   "execution_count": 27,
   "metadata": {},
   "outputs": [],
   "source": [
    "formula = ro.Formula(\"TAS ~ Sexo + Edad + Adherencia + Mes + Mes:Adherencia\")"
   ]
  },
  {
   "cell_type": "code",
   "execution_count": 28,
   "metadata": {},
   "outputs": [],
   "source": [
    "random_formula = ro.Formula(\"~ 1 + Mes | idPaciente\")\n",
    "model_both = nlme.lme(formula, random=random_formula, data=rdf)"
   ]
  },
  {
   "cell_type": "code",
   "execution_count": 35,
   "metadata": {},
   "outputs": [
    {
     "name": "stdout",
     "output_type": "stream",
     "text": [
      "\n",
      "Log-Likelihood: -15393.929784510992\n",
      "AIC: 30807.859569021984\n",
      "BIC: 30870.582720501545\n",
      "\n"
     ]
    }
   ],
   "source": [
    "print(\n",
    "f\"\"\"\n",
    "Log-Likelihood: {model_both.rx2(\"logLik\")[0]}\n",
    "AIC: {stats.AIC(model_both)[0]}\n",
    "BIC: {stats.BIC(model_both)[0]}\n",
    "\"\"\"\n",
    ")"
   ]
  },
  {
   "cell_type": "code",
   "execution_count": 48,
   "metadata": {},
   "outputs": [],
   "source": [
    "random_formula = ro.Formula(\"~ 1 + Mes | idPaciente\")\n",
    "model_ar1 = nlme.lme(formula, random=random_formula, data=rdf, corr=nlme.corAR1())"
   ]
  },
  {
   "cell_type": "code",
   "execution_count": 49,
   "metadata": {},
   "outputs": [
    {
     "name": "stdout",
     "output_type": "stream",
     "text": [
      "\n",
      "Log-Likelihood: -15376.229317280891\n",
      "AIC: 30774.458634561783\n",
      "BIC: 30843.454101189298\n",
      "\n"
     ]
    }
   ],
   "source": [
    "print(\n",
    "f\"\"\"\n",
    "Log-Likelihood: {model_ar1.rx2(\"logLik\")[0]}\n",
    "AIC: {stats.AIC(model_ar1)[0]}\n",
    "BIC: {stats.BIC(model_ar1)[0]}\n",
    "\"\"\"\n",
    ")"
   ]
  },
  {
   "cell_type": "code",
   "execution_count": 53,
   "metadata": {},
   "outputs": [],
   "source": [
    "random_formula = ro.Formula(\"~ 1 | idPaciente\")\n",
    "model_ar1_only_intercept = nlme.lme(formula, random=random_formula, data=rdf, corr=nlme.corAR1())"
   ]
  },
  {
   "cell_type": "code",
   "execution_count": 54,
   "metadata": {},
   "outputs": [
    {
     "name": "stdout",
     "output_type": "stream",
     "text": [
      "\n",
      "Log-Likelihood: -15380.824841310796\n",
      "AIC: 30779.64968262159\n",
      "BIC: 30836.100518953197\n",
      "\n"
     ]
    }
   ],
   "source": [
    "print(\n",
    "f\"\"\"\n",
    "Log-Likelihood: {model_ar1_only_intercept.rx2(\"logLik\")[0]}\n",
    "AIC: {stats.AIC(model_ar1_only_intercept)[0]}\n",
    "BIC: {stats.BIC(model_ar1_only_intercept)[0]}\n",
    "\"\"\"\n",
    ")"
   ]
  }
 ],
 "metadata": {
  "kernelspec": {
   "display_name": "Python 3",
   "language": "python",
   "name": "python3"
  },
  "language_info": {
   "codemirror_mode": {
    "name": "ipython",
    "version": 3
   },
   "file_extension": ".py",
   "mimetype": "text/x-python",
   "name": "python",
   "nbconvert_exporter": "python",
   "pygments_lexer": "ipython3",
   "version": "3.10.11"
  },
  "orig_nbformat": 4
 },
 "nbformat": 4,
 "nbformat_minor": 2
}
